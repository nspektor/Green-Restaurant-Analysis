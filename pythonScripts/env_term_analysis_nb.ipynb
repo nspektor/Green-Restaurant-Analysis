{
 "cells": [
  {
   "cell_type": "code",
   "execution_count": 3,
   "metadata": {},
   "outputs": [
    {
     "name": "stdout",
     "output_type": "stream",
     "text": [
      "smallness achieved\n"
     ]
    }
   ],
   "source": [
    "import pandas as pd\n",
    "import nltk\n",
    "from nltk.corpus import stopwords\n",
    "from nltk.corpus import stopwords\n",
    "from nltk.tokenize import word_tokenize\n",
    "\n",
    "from nltk.stem import WordNetLemmatizer\n",
    "import re\n",
    "import argparse\n",
    "\n",
    "# parser = argparse.ArgumentParser(description='env term small or big')\n",
    "# parser.add_argument(\"--small\", default=False, type=bool, help=\"When true, run on smaller data\")\n",
    "# args = parser.parse_args()\n",
    "small = True\n",
    "\n",
    "environmentalTerms = [line.rstrip('\\n') for line in open(\"../data/helper_files/environmentalTerms.txt\")]\n",
    "environmentalTerms = list(dict.fromkeys(environmentalTerms))\n",
    "if small:\n",
    "    restaurants_and_reviews_file = \"../data/small_restaurants_and_reviews.csv\"\n",
    "    term_based_file = \"../data/small_term_based_green_rating_results.csv\"\n",
    "    print(\"smallness achieved\")\n",
    "else:\n",
    "    restaurants_and_reviews_file = \"../data/big_restaurants_and_reviews.csv\"\n",
    "    term_based_file = \"../data/big_term_based_green_rating_results.csv\"\n",
    "    print(\"we livin large\")\n",
    "restaurants_and_reviews = pd.read_csv(restaurants_and_reviews_file)"
   ]
  },
  {
   "cell_type": "code",
   "execution_count": 4,
   "metadata": {},
   "outputs": [],
   "source": [
    "\n",
    "def pre_process(text):\n",
    "    # lowercase\n",
    "    text = text.lower()\n",
    "\n",
    "    # remove tags\n",
    "    text = re.sub(\"&lt;/?.*?&gt;\", \" &lt;&gt; \", text)\n",
    "\n",
    "    # remove special characters and digits\n",
    "    text = re.sub(\"(\\\\d|\\\\W)+\", \" \", text)\n",
    "\n",
    "    # splittext = text.split(' ')\n",
    "    # lemmatizer = WordNetLemmatizer()\n",
    "\n",
    "    # lemmatized_output = ' '.join([lemmatizer.lemmatize(w) for w in splittext])\n",
    "\n",
    "    return text  # lemmatized_output\n",
    "\n",
    "\n",
    "restaurants_and_reviews['review_text'] = restaurants_and_reviews['review_text'].apply(lambda x: pre_process(x))\n",
    "\n",
    "\n",
    "# def get_env_terms(text):\n",
    "#     terms = environmentalTerms\n",
    "#     #     text = text.split(' ')\n",
    "#     env_terms_in_text = [term for term in terms if term in text]\n",
    "#     return ', '.join(env_terms_in_text)\n",
    "\n",
    "\n",
    "def get_env_term_counts(restaurant):\n",
    "    terms = environmentalTerms\n",
    "    env_terms_in_text = [term for term in terms if term in restaurant['review_text']]\n",
    "    # sum = 0\n",
    "    # for term in restaurant['env_terms'].split(\", \"):\n",
    "    #     #         print(term , \" count \" , rest['text'].count(term))\n",
    "    #     if term != '':\n",
    "    #         sum += restaurant['text'].count(term)\n",
    "    return len(env_terms_in_text)"
   ]
  },
  {
   "cell_type": "code",
   "execution_count": 5,
   "metadata": {},
   "outputs": [
    {
     "name": "stdout",
     "output_type": "stream",
     "text": [
      "      Unnamed: 0             business_id  \\\n",
      "1057        2640  Wxxvi3LZbHNIDwJ-ZimtnA   \n",
      "781         1975  ujHiaprwCQ5ewziu0Vi9rw   \n",
      "1167        2944  R1jJQi2yR44D_2ileqr8kA   \n",
      "2403        6051  XXW_OFaYQkkGOGniujZFHg   \n",
      "2785        7051  LYWbyu1EQM2o5hwHG5_Ldg   \n",
      "\n",
      "                                             categories  \\\n",
      "1057  SHOPPING CENTERS  RESORTS  ARTS & ENTERTAINMEN...   \n",
      "781                AMERICAN (NEW)  BUFFETS  RESTAURANTS   \n",
      "1167      RESTAURANTS  VEGAN  LIVE/RAW FOOD  VEGETARIAN   \n",
      "2403  NIGHTLIFE  LOUNGES  RESTAURANTS  BARS  AMERICA...   \n",
      "2785                   RESTAURANTS  SUSHI BARS  SEAFOOD   \n",
      "\n",
      "                                             name  review_count  stars  \\\n",
      "1057                       THE VENETIAN LAS VEGAS          3499    4.0   \n",
      "781                        THE BUFFET AT BELLAGIO          4227    3.5   \n",
      "1167                               LIVING KITCHEN           417    4.5   \n",
      "2403  THE PEPPERMILL RESTAURANT & FIRESIDE LOUNGE          3260    4.0   \n",
      "2785                                   RM SEAFOOD           928    3.5   \n",
      "\n",
      "                             address       city state postal_code   latitude  \\\n",
      "1057  3355 SOUTH LAS VEGAS BOULEVARD  LAS VEGAS    NV       89109  36.121189   \n",
      "781            3600 S LAS VEGAS BLVD  LAS VEGAS    NV       89109  36.113220   \n",
      "1167            2000 S BLVD, STE 300  CHARLOTTE    NC       28203  35.209027   \n",
      "2403           2985 LAS VEGAS BLVD S  LAS VEGAS    NV       89109  36.133667   \n",
      "2785           3950 S LAS VEGAS BLVD  LAS VEGAS    NV       89119  36.093063   \n",
      "\n",
      "       longitude                                        review_text  \\\n",
      "1057 -115.169657   i am so blown away by this sophisticated beau...   \n",
      "781  -115.176890   we had dinner at the bellagio buffet last nig...   \n",
      "1167  -80.861156   my companion and i went to living kitchen on ...   \n",
      "2403 -115.163095   good morning cocktails for you nwait what oh ...   \n",
      "2785 -115.176310   worse than before noverpriced and horrible se...   \n",
      "\n",
      "      env_term_counts     len  env_terms_percent_of_overall_words  \\\n",
      "1057               59  554048                            0.010649   \n",
      "781                55  539476                            0.010195   \n",
      "1167               53   41842                            0.126667   \n",
      "2403               50  338967                            0.014751   \n",
      "2785               49  159313                            0.030757   \n",
      "\n",
      "     term_based_green_rating  \n",
      "1057                       1  \n",
      "781                        1  \n",
      "1167                       1  \n",
      "2403                       1  \n",
      "2785                       1  \n"
     ]
    }
   ],
   "source": [
    "restaurants_and_reviews['env_term_counts'] = restaurants_and_reviews.apply(\n",
    "    lambda x: get_env_term_counts(x), axis=1)\n",
    "restaurants_and_reviews.sort_values(['env_term_counts'], ascending=False, inplace=True)\n",
    "\n",
    "restaurants_and_reviews['len'] = restaurants_and_reviews['review_text'].str.split().apply(len)\n",
    "\n",
    "restaurants_and_reviews['env_terms_percent_of_overall_words'] = (\n",
    "        restaurants_and_reviews['env_term_counts'] / restaurants_and_reviews['len'])\n",
    "restaurants_and_reviews['env_terms_percent_of_overall_words'] *= 100\n",
    "\n",
    "bins = [-1, 0.01, 0.3, 1, 100]\n",
    "labels = [0, 1, 2, 3]\n",
    "restaurants_and_reviews['term_based_green_rating'] = pd.cut(\n",
    "    restaurants_and_reviews['env_terms_percent_of_overall_words'],\n",
    "    bins=bins, labels=labels)\n",
    "\n",
    "print(restaurants_and_reviews.head())\n",
    "restaurants_and_reviews[['name', 'term_based_green_rating']].to_csv(\n",
    "    term_based_file, index=False)\n"
   ]
  },
  {
   "cell_type": "code",
   "execution_count": 6,
   "metadata": {},
   "outputs": [
    {
     "data": {
      "text/plain": [
       "count     5000\n",
       "unique       4\n",
       "top          1\n",
       "freq      3436\n",
       "Name: term_based_green_rating, dtype: int64"
      ]
     },
     "execution_count": 6,
     "metadata": {},
     "output_type": "execute_result"
    }
   ],
   "source": [
    "restaurants_and_reviews['term_based_green_rating'].describe()"
   ]
  },
  {
   "cell_type": "code",
   "execution_count": null,
   "metadata": {},
   "outputs": [],
   "source": []
  }
 ],
 "metadata": {
  "kernelspec": {
   "display_name": "Python 3",
   "language": "python",
   "name": "python3"
  },
  "language_info": {
   "codemirror_mode": {
    "name": "ipython",
    "version": 3
   },
   "file_extension": ".py",
   "mimetype": "text/x-python",
   "name": "python",
   "nbconvert_exporter": "python",
   "pygments_lexer": "ipython3",
   "version": "3.6.5"
  }
 },
 "nbformat": 4,
 "nbformat_minor": 2
}
